{
 "cells": [
  {
   "cell_type": "code",
   "execution_count": 1,
   "metadata": {},
   "outputs": [],
   "source": [
    "import pandas as pd\n",
    "import talib as ta\n",
    "import matplotlib.pyplot as plt"
   ]
  },
  {
   "cell_type": "code",
   "execution_count": 2,
   "metadata": {},
   "outputs": [],
   "source": [
    "data = pd.read_csv('stock.csv',parse_dates=['date'])\n",
    "data['EMA26'] = data['close'].ewm(span=26, adjust=False).mean()\n",
    "data['EMA12'] = data['close'].ewm(span=12, adjust=False).mean()\n",
    "data['DIF'] = data['EMA12'] - data['EMA26']\n",
    "data['DEA'] = data['DIF'].ewm(span=9, adjust=False).mean()\n",
    "data['MACD'] = (data['DIF'] - data['DEA'])\n",
    "\n",
    "data['RSI'] = ta.RSI(data['close'], timeperiod=14)"
   ]
  },
  {
   "cell_type": "code",
   "execution_count": null,
   "metadata": {},
   "outputs": [
    {
     "name": "stderr",
     "output_type": "stream",
     "text": [
      "Locator attempting to generate 52694 ticks ([-5.388888888888889, ..., 104.38819444444445]), which exceeds Locator.MAXTICKS (1000).\n"
     ]
    }
   ],
   "source": [
    "import matplotlib.dates as mdates\n",
    "n = 100\n",
    "plt.rcParams['font.sans-serif'] = ['SimHei']\n",
    "plt.rcParams['axes.unicode_minus'] = False\n",
    "\n",
    "# subplots 2，1表示子图行数和列数，  figsize表示画布大小，sharex表示共享x轴, height_ratios表示子图高度比例\n",
    "fig, (ax1, ax2) = plt.subplots(2, 1, sharex=True, figsize=(15, 8),height_ratios=[4, 1])\n",
    "\n",
    "date = data['date'].dt.strftime(\"%m-%d %H:%M\")[-n:]\n",
    "ax1.set_ylabel(\"Y1轴\", color='blue')\n",
    "ax1.plot(date,data['close'][-n:],color='blue', label='Y1')\n",
    "ax1.tick_params(axis='y', labelcolor='blue')\n",
    "ax1.legend(loc='upper left')\n",
    "\n",
    "ax2.plot(date,data['DIF'][-n:], label='MACD', color='red')\n",
    "ax2.plot(date,data['DEA'][-n:], label='DEA', color='purple')\n",
    "ax2.bar(date, data['MACD'][-n:], color='gray', label='Y2')\n",
    "ax2.tick_params(axis='y', left=True)\n",
    "\n",
    "# ax = plt.gca()\n",
    "ax2.xaxis.set_major_locator(mdates.MinuteLocator(interval=3))\n",
    "# ax.xaxis.set_major_formatter(mdates.DateFormatter('%H:%M'))\n",
    "# 调整布局，腾出右侧空间\n",
    "plt.subplots_adjust(right=0.85)\n",
    "# 倾斜比例\n",
    "# plt.xticks(rotation=45)\n",
    "plt.gcf().autofmt_xdate()\n",
    "\n",
    "plt.show()"
   ]
  },
  {
   "cell_type": "code",
   "execution_count": null,
   "metadata": {},
   "outputs": [],
   "source": [
    "# print(data.describe().transpose())"
   ]
  }
 ],
 "metadata": {
  "kernelspec": {
   "display_name": "Python 3",
   "language": "python",
   "name": "python3"
  },
  "language_info": {
   "codemirror_mode": {
    "name": "ipython",
    "version": 3
   },
   "file_extension": ".py",
   "mimetype": "text/x-python",
   "name": "python",
   "nbconvert_exporter": "python",
   "pygments_lexer": "ipython3",
   "version": "3.9.13"
  }
 },
 "nbformat": 4,
 "nbformat_minor": 2
}
