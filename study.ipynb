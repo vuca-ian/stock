{
 "cells": [
  {
   "cell_type": "code",
   "execution_count": 12,
   "metadata": {},
   "outputs": [
    {
     "name": "stdout",
     "output_type": "stream",
     "text": [
      "WARNING:tensorflow:Mixed precision compatibility check (mixed_float16): WARNING\n",
      "Your GPU may run slowly with dtype policy mixed_float16 because it does not have compute capability of at least 7.0. Your GPU:\n",
      "  METAL, no compute capability (probably not an Nvidia GPU)\n",
      "See https://developer.nvidia.com/cuda-gpus for a list of GPUs and their compute capabilities.\n",
      "If you will use compatible GPU(s) not attached to this host, e.g. by running a multi-worker model, you can ignore this warning. This message will only be logged once\n",
      "GPU 可用: [PhysicalDevice(name='/physical_device:GPU:0', device_type='GPU')]\n",
      "TensorFlow 版本: 2.12.0\n",
      "设备列表: [PhysicalDevice(name='/physical_device:CPU:0', device_type='CPU'), PhysicalDevice(name='/physical_device:GPU:0', device_type='GPU')]\n",
      "<Policy \"mixed_float16\">\n"
     ]
    }
   ],
   "source": [
    "import tensorflow as tf\n",
    "tf.keras.mixed_precision.set_global_policy('mixed_float16')\n",
    "# 检查 GPU 是否可用\n",
    "print(\"GPU 可用:\", tf.config.list_physical_devices('GPU'))\n",
    "\n",
    "# 打印 TensorFlow 版本和 GPU 信息\n",
    "print(\"TensorFlow 版本:\", tf.__version__)\n",
    "print(\"设备列表:\", tf.config.get_visible_devices())\n",
    "print(tf.keras.mixed_precision.global_policy())"
   ]
  },
  {
   "cell_type": "code",
   "execution_count": 13,
   "metadata": {},
   "outputs": [
    {
     "name": "stdout",
     "output_type": "stream",
     "text": [
      "GPU 设备: [PhysicalDevice(name='/physical_device:GPU:0', device_type='GPU')]\n",
      "72.6501\n",
      "GPU 耗时: 0.32079195976257324\n",
      "-29.4250717\n",
      "CPU 耗时: 6.0468761920928955\n"
     ]
    }
   ],
   "source": [
    "# 生成随机数据并测试 GPU 计算\n",
    "import tensorflow as tf\n",
    "import time\n",
    "\n",
    "# 确认 GPU 可用\n",
    "print(\"GPU 设备:\", tf.config.list_physical_devices('GPU'))\n",
    "\n",
    "# 测试 GPU 计算性能\n",
    "def benchmark_gpu():\n",
    "    with tf.device('/GPU:0'):\n",
    "        a = tf.random.normal([1000, 10000])\n",
    "        b = tf.random.normal([10000, 10000])\n",
    "        start = time.time()\n",
    "        c = tf.matmul(a, b)\n",
    "        tf.print(c[0, 0])  # 确保计算完成\n",
    "        return time.time() - start\n",
    "\n",
    "# 对比 CPU 速度\n",
    "def benchmark_cpu():\n",
    "    with tf.device('/CPU:0'):\n",
    "        a = tf.random.normal([10000, 10000])\n",
    "        b = tf.random.normal([10000, 10000])\n",
    "        start = time.time()\n",
    "        c = tf.matmul(a, b)\n",
    "        tf.print(c[0, 0])\n",
    "        return time.time() - start\n",
    "\n",
    "print(\"GPU 耗时:\", benchmark_gpu())\n",
    "print(\"CPU 耗时:\", benchmark_cpu())"
   ]
  },
  {
   "cell_type": "code",
   "execution_count": null,
   "metadata": {},
   "outputs": [],
   "source": []
  },
  {
   "cell_type": "code",
   "execution_count": null,
   "metadata": {},
   "outputs": [],
   "source": []
  },
  {
   "cell_type": "code",
   "execution_count": null,
   "metadata": {},
   "outputs": [],
   "source": []
  }
 ],
 "metadata": {
  "kernelspec": {
   "display_name": "tf_metal",
   "language": "python",
   "name": "python3"
  },
  "language_info": {
   "codemirror_mode": {
    "name": "ipython",
    "version": 3
   },
   "file_extension": ".py",
   "mimetype": "text/x-python",
   "name": "python",
   "nbconvert_exporter": "python",
   "pygments_lexer": "ipython3",
   "version": "3.10.16"
  }
 },
 "nbformat": 4,
 "nbformat_minor": 2
}
