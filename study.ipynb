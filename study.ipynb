{
 "cells": [
  {
   "cell_type": "code",
   "execution_count": null,
   "metadata": {},
   "outputs": [],
   "source": [
    "import pandas as pd\n",
    "import talib as ta"
   ]
  },
  {
   "cell_type": "code",
   "execution_count": null,
   "metadata": {},
   "outputs": [],
   "source": [
    "def preprocess_data(data: pd.DataFrame):\n",
    "    data['RETURN_FLAG'] = (data['close']- data['close'].mean())/data['close'].std()\n",
    "    data['MACD'], data['Signal'], data['Hist'] = ta.MACD(data['close'], fastperiod=12, slowperiod=26, signalperiod=9)\n",
    "    return data.dropna()"
   ]
  },
  {
   "cell_type": "code",
   "execution_count": null,
   "metadata": {},
   "outputs": [],
   "source": [
    "df = pd.read_csv('stock.csv', parse_dates=True)\n",
    "\n",
    "data = preprocess_data(df)\n",
    "print(data.tail())"
   ]
  },
  {
   "cell_type": "code",
   "execution_count": null,
   "metadata": {},
   "outputs": [],
   "source": [
    "import matplotlib.pyplot as plt\n",
    "import matplotlib.dates as mdates\n",
    "plt.rcParams['font.sans-serif'] = ['SimHei','DejaVu Sans','Bitstream Vera Sans','Arial Serif','freeserif','sans-serif']\n",
    "plt.rcParams['axes.unicode_minus'] = False\n",
    "\n",
    "n=500\n",
    "\n",
    "time_index = data.index[-n:]\n",
    "fig, (ax1, ax2) = plt.subplots(2, 1, sharex=True, figsize=(12, 8),height_ratios=[4, 1])\n",
    "ax1.xaxis.set_major_locator(mdates.AutoDateLocator())\n",
    "ax1.xaxis.set_major_formatter(mdates.DateFormatter(\"%m-%d %H:%M\"))\n",
    "ax1.tick_params(axis='y', labelcolor='blue')\n",
    "\n",
    "ax1.plot(time_index,data['close'][-n:],color='blue', label='Y1')\n",
    "ax3 = ax1.twinx()\n",
    "ax3.plot(time_index, df['RETURN_FLAG'][-n:], label='Volume', color='red')\n",
    "\n",
    "ax2.plot(time_index,data['MACD'][-n:], label='MACD', color='red')\n",
    "ax2.plot(time_index,data['Signal'][-n:], label='Signal', color='purple')\n",
    "ax2.bar(time_index, data['Hist'][-n:], color='gray', label='Hist')\n",
    "ax2.tick_params(axis='y', left=True)\n",
    "ax1.legend(loc='upper left')\n",
    "\n",
    "plt.legend()\n",
    "plt.subplots_adjust(bottom=0)\n",
    "# 倾斜比例\n",
    "plt.xticks(rotation=-45)\n",
    "plt.tight_layout()\n",
    "plt.show()"
   ]
  }
 ],
 "metadata": {
  "kernelspec": {
   "display_name": "Python 3",
   "language": "python",
   "name": "python3"
  },
  "language_info": {
   "codemirror_mode": {
    "name": "ipython",
    "version": 3
   },
   "file_extension": ".py",
   "mimetype": "text/x-python",
   "name": "python",
   "nbconvert_exporter": "python",
   "pygments_lexer": "ipython3",
   "version": "3.9.13"
  }
 },
 "nbformat": 4,
 "nbformat_minor": 2
}
