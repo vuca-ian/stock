{
 "cells": [
  {
   "cell_type": "code",
   "execution_count": 5,
   "metadata": {},
   "outputs": [
    {
     "name": "stdout",
     "output_type": "stream",
     "text": [
      "GPU 可用: [PhysicalDevice(name='/physical_device:GPU:0', device_type='GPU')]\n",
      "GPU Details: {'device_name': 'METAL'}\n",
      "GPU Memory Usage: 0.00 GB / 0.00 GB\n",
      "TensorFlow 版本: 2.12.0\n",
      "设备列表: [PhysicalDevice(name='/physical_device:CPU:0', device_type='CPU'), PhysicalDevice(name='/physical_device:GPU:0', device_type='GPU')]\n",
      "<Policy \"mixed_float16\">\n"
     ]
    },
    {
     "name": "stderr",
     "output_type": "stream",
     "text": [
      "2025-03-26 00:13:16.178521: I tensorflow/core/common_runtime/pluggable_device/pluggable_device_factory.cc:306] Could not identify NUMA node of platform GPU ID 0, defaulting to 0. Your kernel may not have been built with NUMA support.\n",
      "2025-03-26 00:13:16.178578: I tensorflow/core/common_runtime/pluggable_device/pluggable_device_factory.cc:272] Created TensorFlow device (/job:localhost/replica:0/task:0/device:GPU:0 with 0 MB memory) -> physical PluggableDevice (device: 0, name: METAL, pci bus id: <undefined>)\n"
     ]
    }
   ],
   "source": [
    "import tensorflow as tf\n",
    "tf.keras.mixed_precision.set_global_policy('mixed_float16')\n",
    "# 检查 GPU 是否可用\n",
    "gpus = tf.config.list_physical_devices('GPU')\n",
    "print(\"GPU 可用:\", gpus)\n",
    "# 获取 GPU 详细信息（需安装必要的驱动）\n",
    "details = tf.config.experimental.get_device_details(gpus[0])\n",
    "print(\"GPU Details:\", details)\n",
    "memory_info = tf.config.experimental.get_memory_info('GPU:0')\n",
    "print(f\"GPU Memory Usage: {memory_info['current'] / 1024**3:.2f} GB / {memory_info['peak'] / 1024**3:.2f} GB\")\n",
    "\n",
    "# 打印 TensorFlow 版本和 GPU 信息\n",
    "print(\"TensorFlow 版本:\", tf.__version__)\n",
    "print(\"设备列表:\", tf.config.get_visible_devices())\n",
    "print(tf.keras.mixed_precision.global_policy())"
   ]
  },
  {
   "cell_type": "code",
   "execution_count": 6,
   "metadata": {},
   "outputs": [],
   "source": [
    "# # 生成随机数据并测试 GPU 计算\n",
    "# import tensorflow as tf\n",
    "# import time\n",
    "\n",
    "# # 确认 GPU 可用\n",
    "# print(\"GPU 设备:\", tf.config.list_physical_devices('GPU'))\n",
    "\n",
    "# # 测试 GPU 计算性能\n",
    "# def benchmark_gpu():\n",
    "#     with tf.device('/GPU:0'):\n",
    "#         a = tf.random.normal([1000, 10000])\n",
    "#         b = tf.random.normal([10000, 10000])\n",
    "#         start = time.time()\n",
    "#         c = tf.matmul(a, b)\n",
    "#         tf.print(c[0, 0])  # 确保计算完成\n",
    "#         return time.time() - start\n",
    "\n",
    "# # 对比 CPU 速度\n",
    "# def benchmark_cpu():\n",
    "#     with tf.device('/CPU:0'):\n",
    "#         a = tf.random.normal([10000, 10000])\n",
    "#         b = tf.random.normal([10000, 10000])\n",
    "#         start = time.time()\n",
    "#         c = tf.matmul(a, b)\n",
    "#         tf.print(c[0, 0])\n",
    "#         return time.time() - start\n",
    "\n",
    "# print(\"GPU 耗时:\", benchmark_gpu())\n",
    "# print(\"CPU 耗时:\", benchmark_cpu())"
   ]
  },
  {
   "cell_type": "code",
   "execution_count": null,
   "metadata": {},
   "outputs": [],
   "source": []
  },
  {
   "cell_type": "code",
   "execution_count": null,
   "metadata": {},
   "outputs": [],
   "source": []
  },
  {
   "cell_type": "code",
   "execution_count": null,
   "metadata": {},
   "outputs": [],
   "source": []
  }
 ],
 "metadata": {
  "kernelspec": {
   "display_name": "tf_metal",
   "language": "python",
   "name": "python3"
  },
  "language_info": {
   "codemirror_mode": {
    "name": "ipython",
    "version": 3
   },
   "file_extension": ".py",
   "mimetype": "text/x-python",
   "name": "python",
   "nbconvert_exporter": "python",
   "pygments_lexer": "ipython3",
   "version": "3.10.16"
  }
 },
 "nbformat": 4,
 "nbformat_minor": 2
}
