{
 "cells": [
  {
   "cell_type": "code",
   "execution_count": null,
   "metadata": {},
   "outputs": [],
   "source": [
    "import pandas as pd\n",
    "import numpy as np\n",
    "import tensorflow as tf\n",
    "import seaborn as sns\n",
    "import statsmodels.api as sm\n",
    "import matplotlib.pyplot as plt\n",
    "tf.config.list_physical_devices('GPU')\n",
    "tf.config.list_physical_devices('CPU')"
   ]
  },
  {
   "cell_type": "code",
   "execution_count": null,
   "metadata": {},
   "outputs": [],
   "source": [
    "df = pd.read_csv('stock.csv',index_col='date', parse_dates=True)\n",
    "df.info()\n",
    "df.head()"
   ]
  },
  {
   "cell_type": "code",
   "execution_count": null,
   "metadata": {},
   "outputs": [],
   "source": [
    "plt.figure(figsize=(12,6))\n",
    "plt.plot(df['close'], label='Close Price')\n",
    "plt.show()"
   ]
  },
  {
   "cell_type": "code",
   "execution_count": null,
   "metadata": {},
   "outputs": [],
   "source": [
    "plt.figure(figsize=(12,6))\n",
    "plt.plot(df['volume'], label='Volume')\n",
    "plt.show()"
   ]
  },
  {
   "cell_type": "code",
   "execution_count": null,
   "metadata": {},
   "outputs": [],
   "source": [
    "\"\"\"收盘价的概率密度分布图\"\"\"\n",
    "sns.kdeplot(df['close'], fill=True)\n",
    "\"\"\"\n",
    "多峰分布\n",
    "右偏分布 右侧稀疏，尾部延展到较高的价格区间\n",
    "\"\"\""
   ]
  },
  {
   "cell_type": "code",
   "execution_count": null,
   "metadata": {},
   "outputs": [],
   "source": [
    "\"\"\"趋势分析\"\"\"\n",
    "window_size =30\n",
    "df['ma_trend'] = df['close'].rolling(window=window_size).mean()\n",
    "plt.figure(figsize=(12,6))\n",
    "plt.plot(df['close'],label='Original')\n",
    "df['ma_trend'].plot(label=f'{window_size}-Day Moving Average')\n",
    "plt.legend()\n",
    "plt.title('Trend Analysis with Moving Average')\n",
    "plt.show()"
   ]
  },
  {
   "cell_type": "code",
   "execution_count": null,
   "metadata": {},
   "outputs": [],
   "source": [
    "result = sm.tsa.seasonal_decompose(df['close'], model='additive', period=96) \n",
    "# 可视化分解结果\n",
    "plt.figure(figsize=(24,9))\n",
    "result.plot()\n",
    "plt.tight_layout()\n",
    "plt.show()\n",
    "\"\"\"\n",
    "残差分析：\n",
    "2021-2023年，残差分析波动明显\n",
    "\"\"\""
   ]
  },
  {
   "cell_type": "code",
   "execution_count": null,
   "metadata": {},
   "outputs": [],
   "source": [
    "df_2021_2023 = df[df.index.year.isin([2021, 2022])]\n",
    "df_2021_2023.head()"
   ]
  }
 ],
 "metadata": {
  "kernelspec": {
   "display_name": "python312",
   "language": "python",
   "name": "python3"
  },
  "language_info": {
   "codemirror_mode": {
    "name": "ipython",
    "version": 3
   },
   "file_extension": ".py",
   "mimetype": "text/x-python",
   "name": "python",
   "nbconvert_exporter": "python",
   "pygments_lexer": "ipython3",
   "version": "3.12.9"
  }
 },
 "nbformat": 4,
 "nbformat_minor": 2
}
