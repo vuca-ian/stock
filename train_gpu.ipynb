{
 "cells": [
  {
   "cell_type": "code",
   "execution_count": null,
   "metadata": {},
   "outputs": [],
   "source": [
    "import pandas as pd\n",
    "import numpy as np\n",
    "import matplotlib.pyplot as plt\n",
    "from sklearn.model_selection import TimeSeriesSplit\n",
    "from sklearn.preprocessing import MinMaxScaler\n",
    "from sklearn.metrics import mean_squared_error, mean_absolute_error, r2_score\n",
    "from models import TimeSeriesModel\n",
    "from tools import create_sequence"
   ]
  },
  {
   "cell_type": "code",
   "execution_count": null,
   "metadata": {},
   "outputs": [],
   "source": [
    "df = pd.read_csv('stock_features.csv', parse_dates=True)\n",
    "df['date'] = pd.to_datetime(df['date'])\n",
    "target ='close'\n",
    "features = df.drop(columns=['date', target]).values\n",
    "X = features.copy()\n",
    "y = df[target].copy().values.reshape(-1, 1)\n",
    "\n",
    "print(X.shape, y.shape)\n"
   ]
  },
  {
   "cell_type": "code",
   "execution_count": null,
   "metadata": {},
   "outputs": [],
   "source": [
    "scaler_X = MinMaxScaler()\n",
    "scaler_y = MinMaxScaler()\n",
    "X_train_scaled = scaler_X.fit_transform(X)\n",
    "y_train_scaled = scaler_y.fit_transform(y)\n",
    "\n",
    "X_train_scaled, y_train_scaled = create_sequence(X_train_scaled, y_train_scaled, time_steps=60)\n",
    "print(X_train_scaled.shape, y_train_scaled.shape)"
   ]
  },
  {
   "cell_type": "code",
   "execution_count": null,
   "metadata": {},
   "outputs": [],
   "source": [
    "config = {\n",
    "    \"model_name\": \"LSTM\",\n",
    "    \"input_window\": 60,\n",
    "    \"label_window\": 1,\n",
    "    \"units\": 32,\n",
    "    \"lstm_layers\": 2,\n",
    "    \"dense_layers\": 1,\n",
    "    \"dropout_rate\": 0.3,\n",
    "    \"l2_rate\": 0.01,\n",
    "    \"learning_rate\": 0.001,\n",
    "    \"batch_size\": 128,\n",
    "    \"epochs\": 20,\n",
    "}"
   ]
  },
  {
   "cell_type": "code",
   "execution_count": null,
   "metadata": {},
   "outputs": [],
   "source": [
    "tscv = TimeSeriesSplit(n_splits=5, test_size=30)\n",
    "for fold, (train_index, val_index) in enumerate(tscv.split(X_train_scaled)):\n",
    "    print(f\"Fold {fold + 1}:\")\n",
    "    X_train_fold, X_val_fold = X_train_scaled[train_index], X_train_scaled[val_index]\n",
    "    y_train_fold, y_val_fold = y_train_scaled[train_index], y_train_scaled[val_index]\n",
    "    # 构建模型\n",
    "    tsm = TimeSeriesModel(config=config)\n",
    "    model = tsm.build_model(input_shape=(X_train_fold.shape[1], X_train_fold.shape[2]))\n",
    "    # 训练模型\n",
    "    history = tsm.fit(X_train_fold, y_train_fold, (X_val_fold, y_val_fold))\n",
    "    val_predictions = tsm.predict(X_val_fold)\n",
    "    # 预测结果反转归一化\n",
    "    val_predictions_prices = scaler_y.inverse_transform(val_predictions)\n",
    "    # 真实值反转归一化\n",
    "    val_real_prices = scaler_y.inverse_transform(y_val_fold.reshape(-1, 1))\n",
    "\n",
    "    mse = mean_squared_error(val_real_prices, val_predictions_prices)\n",
    "    rmse = np.sqrt(mse)\n",
    "    mae = mean_absolute_error(val_real_prices, val_predictions_prices)\n",
    "    r2 = r2_score(val_real_prices, val_predictions_prices)\n",
    "    print(f\"Fold {fold + 1} for window - \\nMSE: {mse} \\nRMSE: {rmse}  \\nMAE: {mae} \\nR2: {r2}\")\n",
    "    # 打印结果\n",
    "    plt.figure(figsize=(12, 6))\n",
    "    plt.plot(val_predictions_prices[-100:], label='predicted_prices')\n",
    "    plt.plot(val_real_prices[-100:], label='real_prices')\n",
    "    plt.title('Model Accuracy History')\n",
    "    plt.ylabel('Accuracy')\n",
    "    plt.xlabel('Epoch')\n",
    "    plt.legend()\n",
    "    plt.grid(True)\n",
    "    plt.show()\n",
    "    tsm.plot_history(history=history, fold=fold)"
   ]
  }
 ],
 "metadata": {
  "kernelspec": {
   "display_name": "tf_metal",
   "language": "python",
   "name": "python3"
  },
  "language_info": {
   "codemirror_mode": {
    "name": "ipython",
    "version": 3
   },
   "file_extension": ".py",
   "mimetype": "text/x-python",
   "name": "python",
   "nbconvert_exporter": "python",
   "pygments_lexer": "ipython3",
   "version": "3.10.16"
  }
 },
 "nbformat": 4,
 "nbformat_minor": 2
}
